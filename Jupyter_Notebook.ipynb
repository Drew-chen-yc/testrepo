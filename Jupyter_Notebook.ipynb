{
 "cells": [
  {
   "cell_type": "markdown",
   "metadata": {},
   "source": [
    "<center>\n",
    "    <img src=\"https://cf-courses-data.s3.us.cloud-object-storage.appdomain.cloud/IBMDeveloperSkillsNetwork-DS0105EN-SkillsNetwork/labs/Module2/images/SN_web_lightmode.png\" width=\"300\" alt=\"cognitiveclass.ai logo\">\n",
    "</center>\n"
   ]
  },
  {
   "cell_type": "markdown",
   "metadata": {},
   "source": [
    "#### Add your code below following the instructions given in the course\n"
   ]
  },
  {
   "cell_type": "markdown",
   "metadata": {
    "tags": []
   },
   "source": [
    "This notebook is for training"
   ]
  },
  {
   "cell_type": "markdown",
   "metadata": {},
   "source": [
    "In the course of learning how to use the notebook to record Python code, I am using this notebook to continue the course."
   ]
  },
  {
   "cell_type": "markdown",
   "metadata": {},
   "source": [
    "1. Python\n",
    "2. R\n",
    "3. SQL\n",
    "4. Julia\n",
    "5. Scala\n",
    "6. MATLAB\n",
    "7. Java"
   ]
  },
  {
   "cell_type": "markdown",
   "metadata": {},
   "source": [
    "Python:\n",
    "- NumPy: Fundamental package for numerical computing with Python.\n",
    "- Pandas: Data manipulation and analysis library.\n",
    "- Matplotlib: Plotting and data visualization library.\n",
    "- Seaborn: Statistical data visualization based on Matplotlib.\n",
    "- SciPy: Scientific computing and technical computing library.\n",
    "- Scikit-learn: Machine learning library with various algorithms and tools.\n",
    "- TensorFlow: Open-source machine learning framework developed by Google.\n",
    "- PyTorch: Open-source machine learning framework developed by Facebook's AI Research lab.\n",
    "- Keras: High-level neural networks API, running on top of TensorFlow, Theano, or CNTK."
   ]
  },
  {
   "cell_type": "markdown",
   "metadata": {},
   "source": [
    "| Category          | Tools                                       |\n",
    "|-------------------|---------------------------------------------|\n",
    "| Programming Languages | Python, R, SQL, Julia, Scala, MATLAB, SAS |\n",
    "| Data Manipulation | Pandas (Python), dplyr (R), SQL            |\n",
    "| Data Visualization | Matplotlib (Python), ggplot2 (R), Seaborn (Python) |\n",
    "| Machine Learning  | Scikit-learn (Python), caret (R), TensorFlow (Python/R), PyTorch (Python), Spark MLlib |\n",
    "| Deep Learning     | TensorFlow (Python/R), PyTorch (Python), Keras (Python), Caffe (Python/C++), MXNet (Python/R) |\n",
    "| Big Data          | Apache Spark, Hadoop, Hive, Pig           |\n",
    "| Version Control   | Git, GitHub, GitLab, Bitbucket            |\n",
    "| IDEs              | Jupyter Notebook, RStudio, PyCharm, Spyder |\n",
    "| Data Warehousing  | Amazon Redshift, Google BigQuery, Snowflake |\n",
    "| Data Visualization Tools | Tableau, Power BI, Plotly, D3.js        |\n",
    "| Database Systems  | MySQL, PostgreSQL, MongoDB, SQLite       |"
   ]
  },
  {
   "cell_type": "markdown",
   "metadata": {},
   "source": [
    "Addition: 2+3\n",
    "Subtraction: 3-2\n",
    "Division: 10/2\n",
    "Multiplication: 3*2"
   ]
  },
  {
   "cell_type": "code",
   "execution_count": 3,
   "metadata": {
    "tags": []
   },
   "outputs": [
    {
     "data": {
      "text/plain": [
       "6"
      ]
     },
     "execution_count": 3,
     "metadata": {},
     "output_type": "execute_result"
    }
   ],
   "source": [
    "2*3"
   ]
  },
  {
   "cell_type": "code",
   "execution_count": 4,
   "metadata": {
    "tags": []
   },
   "outputs": [
    {
     "data": {
      "text/plain": [
       "5"
      ]
     },
     "execution_count": 4,
     "metadata": {},
     "output_type": "execute_result"
    }
   ],
   "source": [
    "2+3"
   ]
  },
  {
   "cell_type": "code",
   "execution_count": 6,
   "metadata": {
    "tags": []
   },
   "outputs": [
    {
     "name": "stdout",
     "output_type": "stream",
     "text": [
      "6.0\n"
     ]
    }
   ],
   "source": [
    "#convert minutes to hours (360 min to hour)\n",
    "mins = 360\n",
    "hours = mins/60\n",
    "print(hours)"
   ]
  },
  {
   "cell_type": "markdown",
   "metadata": {},
   "source": [
    "Objectives\n",
    "1. Gain proficiency in Python programming language.\n",
    "2. Develop a deep understanding of data manipulation and analysis techniques.\n",
    "3. Master various data visualization methods and tools.\n",
    "4. Acquire knowledge of machine learning algorithms and their applications.\n",
    "5. Learn how to work with big data technologies for scalable data processing.\n",
    "6. Understand the principles of deep learning and neural networks.\n",
    "7. Become proficient in using data science libraries and frameworks such as Pandas, NumPy, Matplotlib, and TensorFlow.\n",
    "8. Gain experience in working with real-world datasets and solving data science problems.\n",
    "9. Develop strong analytical and problem-solving skills.\n",
    "10. Stay updated with the latest trends and advancements in the field of data science."
   ]
  },
  {
   "cell_type": "markdown",
   "metadata": {},
   "source": [
    "Drew Chen"
   ]
  },
  {
   "cell_type": "code",
   "execution_count": null,
   "metadata": {},
   "outputs": [],
   "source": []
  }
 ],
 "metadata": {
  "kernelspec": {
   "display_name": "Python",
   "language": "python",
   "name": "conda-env-python-py"
  },
  "language_info": {
   "codemirror_mode": {
    "name": "ipython",
    "version": 3
   },
   "file_extension": ".py",
   "mimetype": "text/x-python",
   "name": "python",
   "nbconvert_exporter": "python",
   "pygments_lexer": "ipython3",
   "version": "3.7.12"
  }
 },
 "nbformat": 4,
 "nbformat_minor": 4
}
