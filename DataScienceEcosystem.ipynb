{
 "cells": [
  {
   "cell_type": "markdown",
   "metadata": {},
   "source": [
    "<center>\n",
    "    <img src=\"https://cf-courses-data.s3.us.cloud-object-storage.appdomain.cloud/IBMDeveloperSkillsNetwork-DS0105EN-SkillsNetwork/labs/Module2/images/SN_web_lightmode.png\" width=\"300\" alt=\"cognitiveclass.ai logo\">\n",
    "</center>\n"
   ]
  },
  {
   "cell_type": "markdown",
   "metadata": {},
   "source": [
    "#### Add your code below following the instructions given in the course\n"
   ]
  },
  {
   "cell_type": "markdown",
   "metadata": {
    "tags": []
   },
   "source": [
    "# Data Science Tools and Ecosystem"
   ]
  },
  {
   "cell_type": "markdown",
   "metadata": {},
   "source": [
    "In this notebook, Data Science Tools and Ecosystem are summarized."
   ]
  },
  {
   "cell_type": "markdown",
   "metadata": {},
   "source": [
    "Some of the popular languages that Data Scientists use are:\n",
    "1. Python\n",
    "2. R\n",
    "3. SQL\n",
    "4. Julia\n",
    "5. Scala\n",
    "6. Java"
   ]
  },
  {
   "cell_type": "markdown",
   "metadata": {},
   "source": [
    "Some of the commonly used libraries used by Data Scientists include:\n",
    "- NumPy: Fundamental package for numerical computing with Python.\n",
    "- Pandas: Data manipulation and analysis library.\n",
    "- Matplotlib: Plotting and data visualization library.\n",
    "- Seaborn: Statistical data visualization based on Matplotlib.\n",
    "- SciPy: Scientific computing and technical computing library.\n",
    "- Scikit-learn: Machine learning library with various algorithms and tools.\n",
    "- TensorFlow: Open-source machine learning framework developed by Google.\n",
    "- PyTorch: Open-source machine learning framework developed by Facebook's AI Research lab.\n",
    "- Keras: High-level neural networks API, running on top of TensorFlow, Theano, or CNTK."
   ]
  },
  {
   "cell_type": "markdown",
   "metadata": {},
   "source": [
    "Data Science Tools\n",
    "| Category          | Tools                                       |\n",
    "|-------------------|---------------------------------------------|\n",
    "| Programming Languages | Python, R, SQL, Julia, Scala, MATLAB, SAS |\n",
    "| Data Manipulation | Pandas (Python), dplyr (R), SQL            |\n",
    "| Data Visualization | Matplotlib (Python), ggplot2 (R), Seaborn (Python) |\n",
    "| Machine Learning  | Scikit-learn (Python), caret (R), TensorFlow (Python/R), PyTorch (Python), Spark MLlib |\n",
    "| Deep Learning     | TensorFlow (Python/R), PyTorch (Python), Keras (Python), Caffe (Python/C++), MXNet (Python/R) |\n",
    "| Big Data          | Apache Spark, Hadoop, Hive, Pig           |\n",
    "| Version Control   | Git, GitHub, GitLab, Bitbucket            |\n",
    "| IDEs              | Jupyter Notebook, RStudio, PyCharm, Spyder |\n",
    "| Data Warehousing  | Amazon Redshift, Google BigQuery, Snowflake |\n",
    "| Data Visualization Tools | Tableau, Power BI, Plotly, D3.js        |\n",
    "| Database Systems  | MySQL, PostgreSQL, MongoDB, SQLite       |"
   ]
  },
  {
   "cell_type": "markdown",
   "metadata": {},
   "source": [
    "Below are a few examples of evaluating arithmetic expressions in Python:\n",
    "Addition: 2+3\n",
    "Subtraction: 3-2\n",
    "Division: 10/2\n",
    "Multiplication: 3*2"
   ]
  },
  {
   "cell_type": "code",
   "execution_count": 7,
   "metadata": {
    "tags": []
   },
   "outputs": [
    {
     "data": {
      "text/plain": [
       "17"
      ]
     },
     "execution_count": 7,
     "metadata": {},
     "output_type": "execute_result"
    }
   ],
   "source": [
    "# This a simple arithmetic expression to mutiply then add integers\n",
    "(3*4)+5"
   ]
  },
  {
   "cell_type": "code",
   "execution_count": 8,
   "metadata": {
    "tags": []
   },
   "outputs": [
    {
     "name": "stdout",
     "output_type": "stream",
     "text": [
      "3.3333333333333335\n"
     ]
    }
   ],
   "source": [
    "# This will convert 200 minutes to hours by diving by 60\n",
    "mins = 200\n",
    "hours = mins/60\n",
    "print(hours)"
   ]
  },
  {
   "cell_type": "markdown",
   "metadata": {},
   "source": [
    "Objectives:\n",
    "1. introduce how to use jupiter notebook\n",
    "2. list the common programming languages\n",
    "3. list the basic arithmetic expression"
   ]
  },
  {
   "cell_type": "markdown",
   "metadata": {},
   "source": [
    "## Author\n",
    "Drew Chen"
   ]
  },
  {
   "cell_type": "code",
   "execution_count": null,
   "metadata": {},
   "outputs": [],
   "source": []
  }
 ],
 "metadata": {
  "kernelspec": {
   "display_name": "Python",
   "language": "python",
   "name": "conda-env-python-py"
  },
  "language_info": {
   "codemirror_mode": {
    "name": "ipython",
    "version": 3
   },
   "file_extension": ".py",
   "mimetype": "text/x-python",
   "name": "python",
   "nbconvert_exporter": "python",
   "pygments_lexer": "ipython3",
   "version": "3.7.12"
  }
 },
 "nbformat": 4,
 "nbformat_minor": 4
}
